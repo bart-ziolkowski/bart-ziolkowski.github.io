{
 "cells": [
  {
   "cell_type": "markdown",
   "metadata": {},
   "source": [
    "# Final Project - Explainer"
   ]
  },
  {
   "cell_type": "markdown",
   "metadata": {},
   "source": [
    "## Authors - Group 48\n",
    "\n",
    "- Bartosz Ziolkowski, s230080\n",
    "- Kristoffer Plehn, s203777"
   ]
  },
  {
   "cell_type": "markdown",
   "metadata": {},
   "source": [
    "## 1. Motivation"
   ]
  },
  {
   "cell_type": "markdown",
   "metadata": {},
   "source": [
    "We used two datasets from [Statistikbanken.dk: ](https://www.statistikbanken.dk/)\n",
    "- Immigration by sex, age, country of origin and citizenship (1980-2023)      \n",
    "- Emigration by sex, age, country of destination and citizenship (1980-2023)\n",
    "\n",
    "We chose them because they contain data on the number and some metrics of migrants in Denmark, which is what we wanted to analyze. In addition, they come from an authorized source.\n",
    "\n",
    "Our goal in analyzing the datasets was to acquaint the end user with immigration to Denmark and emigration from Denmark between 2015 and 2023, considering individuals aged 0-80 and EU/EEA countries."
   ]
  },
  {
   "cell_type": "markdown",
   "metadata": {},
   "source": [
    "## 2. Basic Stats"
   ]
  },
  {
   "cell_type": "markdown",
   "metadata": {},
   "source": [
    "The dataset on immigration has a total size of 494 KB and 10.045 rows. In turn, the dataset on emigration has a total size of 491 KB and 10.045 rows as well. \n",
    "\n",
    "Both datasets have 13 columns: `OriginCountry`/`Destination`, `Citizenship`, `Sex`, `Age`, `2015`, `2016`, `2017`, `2018`, `2019`, `2020`, `2021`, `2022`, `2023`. \n",
    "\n",
    "The user interface of the website with the datasets allows the user to download the data by selecting desired columns and other grouping values e.g. specific countries, years, citizenships, age, and sex. We were interested in the period from 2015-2023, EU/EEA countries and migrants aged 0-80."
   ]
  },
  {
   "cell_type": "markdown",
   "metadata": {},
   "source": [
    "## 3. Data Analysis"
   ]
  },
  {
   "cell_type": "markdown",
   "metadata": {},
   "source": [
    "### 3.1 Code on the Initial Overview on Migration"
   ]
  },
  {
   "cell_type": "code",
   "execution_count": null,
   "metadata": {},
   "outputs": [],
   "source": [
    "import pandas as pd\n",
    "import plotly.graph_objects as go\n",
    "\n",
    "immigration_data = pd.read_csv('Immigration_2015-2023.csv', sep=';')\n",
    "emigration_data = pd.read_csv('Emigration_2015-2023.csv', sep=';')\n",
    "\n",
    "# Extract years and data\n",
    "years = immigration_data.columns[4:]\n",
    "immigration_total = immigration_data[years].sum()\n",
    "emigration_total = emigration_data[years].sum()\n",
    "migration_balance = immigration_total - emigration_total\n",
    "\n",
    "fig = go.Figure()\n",
    "\n",
    "fig.add_trace(go.Scatter(x=years, y=immigration_total, mode='lines+markers', name='Immigration', line=dict(color='blue')))\n",
    "fig.add_trace(go.Scatter(x=years, y=emigration_total, mode='lines+markers', name='Emigration', line=dict(color='red')))\n",
    "fig.add_trace(go.Scatter(x=years, y=migration_balance, mode='lines+markers', name='Balance', line=dict(color='green')))\n",
    "\n",
    "fig.update_layout(\n",
    "    title='Migration in Denmark Over the Years',\n",
    "    xaxis=dict(title='Year', showgrid=True),\n",
    "    yaxis=dict(title='Number of People', showgrid=True),\n",
    "    legend=dict(x=0, y=1.0, bgcolor='rgba(255, 255, 255, 0)', bordercolor='rgba(255, 255, 255, 0)'),\n",
    "    plot_bgcolor='rgba(0, 0, 0, 0)',\n",
    ")\n",
    "\n",
    "fig.show()\n",
    "\n",
    "fig.to_html(full_html=False, include_plotlyjs='cdn')\n",
    "fig.write_html(\"output.html\", full_html=False, include_plotlyjs='cdn')"
   ]
  },
  {
   "cell_type": "markdown",
   "metadata": {},
   "source": [
    "### 3.2 Code on the Share of Top 15 Countries in Migration"
   ]
  },
  {
   "cell_type": "code",
   "execution_count": null,
   "metadata": {},
   "outputs": [],
   "source": [
    "import pandas as pd\n",
    "import matplotlib.pyplot as plt\n",
    "\n",
    "immigration_data = pd.read_csv('Immigration_2015-2023.csv', sep=';')\n",
    "emigration_data = pd.read_csv('Emigration_2015-2023.csv', sep=';')\n",
    "\n",
    "# Select only numeric columns for both immigration and emigration data\n",
    "numeric_columns_immigration = immigration_data.select_dtypes(include='number')\n",
    "numeric_columns_emigration = emigration_data.select_dtypes(include='number')\n",
    "\n",
    "# Calculate total immigration and emigration for each country\n",
    "total_immigration_by_country = numeric_columns_immigration.groupby(immigration_data['OriginCountry']).sum().sum(axis=1)\n",
    "total_emigration_by_country = numeric_columns_emigration.groupby(emigration_data['Destination']).sum().sum(axis=1)\n",
    "\n",
    "# Select the top 15 countries with the highest immigration and emigration numbers\n",
    "top_15_countries_immigration = total_immigration_by_country.nlargest(15)\n",
    "top_15_countries_emigration = total_emigration_by_country.nlargest(15)\n",
    "\n",
    "# Define colors for charts\n",
    "colors = [\n",
    "    '#1f77b4', '#ff7f0e', '#2ca02c', '#d62728', '#9467bd',\n",
    "    '#8c564b', '#e377c2', '#7f7f7f', '#bcbd22', '#17becf',\n",
    "    '#1a55FF', '#2aFF3A', '#FF5733', '#33FFF6', '#8E44AD'\n",
    "]\n",
    "\n",
    "# Calculate migration ratio\n",
    "migration_ratio = top_15_countries_immigration - top_15_countries_emigration\n",
    "\n",
    "# Sort migration ratio data in descending order\n",
    "migration_ratio_sorted = migration_ratio.sort_values(ascending=False)\n",
    "\n",
    "fig, (ax1, ax2, ax3) = plt.subplots(1, 3, figsize=(20, 8))\n",
    "\n",
    "ax1.pie(top_15_countries_immigration, autopct='%1.1f%%', colors=colors, textprops={'color': 'white', 'weight': 'bold'})\n",
    "ax1.set_title('Top 15 Countries by Total Immigration to Denmark', loc='center', fontsize=18)\n",
    "\n",
    "ax2.pie(top_15_countries_emigration, autopct='%1.1f%%', colors=colors, textprops={'color': 'white', 'weight': 'bold'})\n",
    "ax2.set_title('Top 15 Countries by Total Emigration from Denmark', loc='center', fontsize=18)\n",
    "\n",
    "ax1.legend(top_15_countries_immigration.index, loc='upper left', bbox_to_anchor=(-0.1, 1), ncol=1)\n",
    "ax2.legend(top_15_countries_emigration.index, loc='upper left', bbox_to_anchor=(-0.1, 1), ncol=1)\n",
    "\n",
    "ax3.bar(migration_ratio_sorted.index, migration_ratio_sorted, color=colors)\n",
    "ax3.set_title('Migration Ratio (Immigration - Emigration)', fontsize=18)\n",
    "ax3.set_xlabel('Country', fontsize=14)\n",
    "ax3.set_ylabel('Number of People', fontsize=14)\n",
    "ax3.tick_params(axis='x', rotation=45)\n",
    "ax3.grid(axis='y', linestyle='--', alpha=0.7)\n",
    "\n",
    "plt.tight_layout()\n",
    "plt.show()"
   ]
  },
  {
   "cell_type": "markdown",
   "metadata": {},
   "source": [
    "### 3.3 Code on the Bokeh Plot on Migration"
   ]
  },
  {
   "cell_type": "code",
   "execution_count": null,
   "metadata": {},
   "outputs": [],
   "source": [
    "import pandas as pd\n",
    "from bokeh.plotting import figure, show, output_file\n",
    "from bokeh.models import ColumnDataSource, CustomJS, RadioButtonGroup, FixedTicker, Legend, LegendItem\n",
    "from bokeh.layouts import column\n",
    "from bokeh.palettes import Spectral11\n",
    "\n",
    "# Additional colors for better visualization\n",
    "Spectral15 = tuple(Spectral11) + ('#6a51a3', '#807dba', '#9e9ac8', '#000000')\n",
    "\n",
    "emigration_data = pd.read_csv(\"Emigration_2015-2023.csv\", delimiter=';', thousands=',')\n",
    "immigration_data = pd.read_csv(\"Immigration_2015-2023.csv\", delimiter=';', thousands=',')\n",
    "\n",
    "# Reshape data for easy plotting\n",
    "emigration_data = emigration_data.melt(id_vars=['Destination', 'Citizenship', 'Sex', 'Age'], \n",
    "                                         var_name='Year', value_name='Emigrants')\n",
    "immigration_data = immigration_data.melt(id_vars=['OriginCountry', 'Citizenship', 'Sex', 'Age'], \n",
    "                                         var_name='Year', value_name='Immigrants')\n",
    "\n",
    "# Convert 'Year' column to integer type\n",
    "emigration_data['Year'] = emigration_data['Year'].astype(int)\n",
    "immigration_data['Year'] = immigration_data['Year'].astype(int)\n",
    "\n",
    "total_immigration_by_country = immigration_data.groupby(['OriginCountry']).sum()\n",
    "total_emigration_by_country = emigration_data.groupby(['Destination']).sum()\n",
    "\n",
    "top_15_countries_immigration = total_immigration_by_country['Immigrants'].nlargest(15).index\n",
    "top_15_countries_emigration = total_emigration_by_country['Emigrants'].nlargest(15).index\n",
    "\n",
    "# Filter data for top 15 countries\n",
    "immigration_data = immigration_data[immigration_data['OriginCountry'].isin(top_15_countries_immigration)]\n",
    "emigration_data = emigration_data[emigration_data['Destination'].isin(top_15_countries_emigration)]\n",
    "\n",
    "# Pivot data for easy plotting\n",
    "immigration_data = immigration_data.pivot_table(index='Year', columns='OriginCountry', values='Immigrants', aggfunc='sum').fillna(0)\n",
    "emigration_data = emigration_data.pivot_table(index='Year', columns='Destination', values='Emigrants', aggfunc='sum').fillna(0)\n",
    "\n",
    "# Create ColumnDataSource for both immigration and emigration data\n",
    "imm_src = ColumnDataSource(immigration_data)\n",
    "emg_src = ColumnDataSource(emigration_data)\n",
    "\n",
    "# Create figures for plotting\n",
    "imm_chart = figure(width=1200, x_axis_label=\"Year\", y_axis_label=\"Number of Immigrants\",\n",
    "                   title=\"Immigration to Denmark by Country (2015-2023)\", x_range=(2015, 2023))\n",
    "emg_chart = figure(width=1200, x_axis_label=\"Year\", y_axis_label=\"Number of Emigrants\",\n",
    "                   title=\"Emigration from Denmark by Country (2015-2023)\", x_range=(2015, 2023), visible=False)\n",
    "\n",
    "imm_legend = Legend(items=[])\n",
    "emg_legend = Legend(items=[])\n",
    "\n",
    "# Plot lines for each country in immigration data\n",
    "for i, country in enumerate(top_15_countries_immigration):\n",
    "    line = imm_chart.line(x='Year', y=country, source=imm_src, line_width=2,\n",
    "                          color=Spectral15[i])\n",
    "    imm_legend.items.append(LegendItem(label=str(country), renderers=[line]))\n",
    "\n",
    "# Plot lines for each country in emigration data\n",
    "for i, country in enumerate(top_15_countries_emigration):\n",
    "    line = emg_chart.line(x='Year', y=country, source=emg_src, line_width=2,\n",
    "                          color=Spectral15[i])\n",
    "    emg_legend.items.append(LegendItem(label=str(country), renderers=[line]))\n",
    "\n",
    "\n",
    "imm_legend.click_policy = \"hide\"  \n",
    "imm_legend.location = \"top_left\"\n",
    "emg_legend.click_policy = \"hide\"\n",
    "emg_legend.location = \"top_right\"\n",
    "\n",
    "\n",
    "imm_chart.add_layout(imm_legend, 'right')\n",
    "emg_chart.add_layout(emg_legend, 'right')\n",
    "\n",
    "# Set fixed tickers for x-axis\n",
    "years = list(range(2015, 2024)) \n",
    "imm_chart.xaxis.ticker = FixedTicker(ticks=years)\n",
    "emg_chart.xaxis.ticker = FixedTicker(ticks=years)\n",
    "\n",
    "# Define callback function for radio button group\n",
    "callback = CustomJS(args=dict(imm_chart=imm_chart, emg_chart=emg_chart), code=\"\"\"\n",
    "    if (cb_obj.active == 0) {\n",
    "        emg_chart.visible = false;\n",
    "        imm_chart.visible = true;\n",
    "    } else {\n",
    "        imm_chart.visible = false;\n",
    "        emg_chart.visible = true;\n",
    "    }\n",
    "\"\"\")\n",
    "\n",
    "# Create radio button group for selecting immigration or emigration chart\n",
    "radio_button_group = RadioButtonGroup(labels=[\"Immigration\", \"Emigration\"], active=0)\n",
    "radio_button_group.js_on_change('active', callback)\n",
    "\n",
    "# Arrange plots and radio button group in a column layout\n",
    "layout = column(radio_button_group, imm_chart, emg_chart)\n",
    "\n",
    "output_file(\"ImmigrationEmigrationByCountry.html\")\n",
    "show(layout)"
   ]
  },
  {
   "cell_type": "markdown",
   "metadata": {},
   "source": [
    "### 3.4 Code on Gender Trends in Migration"
   ]
  },
  {
   "cell_type": "code",
   "execution_count": null,
   "metadata": {},
   "outputs": [],
   "source": [
    "import pandas as pd\n",
    "import plotly.graph_objects as go\n",
    "\n",
    "i_data = pd.read_csv(\"Immigration_2015-2023.csv\", sep=';') \n",
    "e_data = pd.read_csv(\"Emigration_2015-2023.csv\", sep=';')\n",
    "\n",
    "# Remove 'year' or 'years' from age column\n",
    "i_data['Age'] = i_data['Age'].str.replace(r'\\s*years?', '', regex=True).astype(int)\n",
    "e_data['Age'] = e_data['Age'].str.replace(r'\\s*years?', '', regex=True).astype(int)\n",
    "\n",
    "x = ['2015', '2016', '2017', '2018', '2019', '2020', '2021', '2022', '2023']\n",
    "\n",
    "# Group data by gender and sum counts for each year\n",
    "i_data_count = i_data.groupby('Sex')[x].sum().T\n",
    "e_data_count = e_data.groupby('Sex')[x].sum().T\n",
    "\n",
    "# Create immigration bar traces\n",
    "immigration_trace = go.Bar(x=i_data_count.index, y=i_data_count['Men'], name='Men', marker_color='steelblue', visible=True)\n",
    "immigration_trace_women = go.Bar(x=i_data_count.index, y=i_data_count['Women'], name='Women', marker_color='hotpink', visible=True)\n",
    "\n",
    "# Create emigration bar traces\n",
    "emigration_trace = go.Bar(x=e_data_count.index, y=e_data_count['Men'], name='Men', marker_color='steelblue', visible=False)\n",
    "emigration_trace_women = go.Bar(x=e_data_count.index, y=e_data_count['Women'], name='Women', marker_color='hotpink', visible=False)\n",
    "\n",
    "# Create dropdown menu\n",
    "updatemenus = [{'buttons': [\n",
    "    {'method': 'update',\n",
    "     'label': 'Immigration',\n",
    "     'args': [{'visible': [True, True, False, False]}, {'title': 'Immigration by Gender Over the Years'}]},\n",
    "    {'method': 'update',\n",
    "     'label': 'Emigration',\n",
    "     'args': [{'visible': [False, False, True, True]}, {'title': 'Emigration by Gender Over the Years'}]}\n",
    "],\n",
    "'direction': 'down',\n",
    "'pad': {'r': 10, 't': 10},\n",
    "'x': 0.8,\n",
    "'xanchor': 'left',\n",
    "'y': 1.2,\n",
    "}]\n",
    "\n",
    "layout = {'updatemenus': updatemenus,\n",
    "          'title': 'Immigration by Gender Over the Years',\n",
    "          'xaxis': {'title': 'Year'},\n",
    "          'yaxis': {'title': 'Number of People'}}\n",
    "\n",
    "fig = go.Figure(data=[immigration_trace, immigration_trace_women, emigration_trace, emigration_trace_women], layout=layout)\n",
    "\n",
    "fig.show()\n",
    "\n",
    "fig.write_html(\"ImmigrationEmigrationByGender.html\", full_html=False, include_plotlyjs='cdn')"
   ]
  },
  {
   "cell_type": "markdown",
   "metadata": {},
   "source": [
    "### 3.5 Code on Age Trends in Migration"
   ]
  },
  {
   "cell_type": "code",
   "execution_count": null,
   "metadata": {},
   "outputs": [],
   "source": [
    "import matplotlib.pyplot as plt\n",
    "import pandas as pd\n",
    "\n",
    "# Define intervals for age groups\n",
    "interval_size = 10\n",
    "max_age = 80\n",
    "age_bins = range(0, max_age + 1, interval_size)\n",
    "age_labels = [f\"{i}-{i+interval_size-1}\" for i in range(0, max_age, interval_size)]\n",
    "\n",
    "# Create empty DataFrames for aggregated immigration and emigration data\n",
    "aggregated_i_data = pd.DataFrame(index=age_labels, columns=range(2015, 2024))\n",
    "aggregated_e_data = pd.DataFrame(index=age_labels, columns=range(2015, 2024))\n",
    "\n",
    "# Group individual data by age and sum the number of people for each year\n",
    "grouped_i_data = i_data.groupby(pd.cut(i_data['Age'], bins=age_bins, labels=age_labels, right=False), observed=False).sum()\n",
    "grouped_e_data = e_data.groupby(pd.cut(e_data['Age'], bins=age_bins, labels=age_labels, right=False), observed=False).sum()\n",
    "\n",
    "# Sum the number of people in each age group for each year\n",
    "for age_group in age_labels:\n",
    "    for year in range(2015, 2024):\n",
    "        aggregated_i_data.loc[age_group, year] = grouped_i_data.loc[age_group, str(year)]\n",
    "        aggregated_e_data.loc[age_group, year] = grouped_e_data.loc[age_group, str(year)]\n",
    "\n",
    "# Calculate the total number of immigrants and emigrants for each age group over all years\n",
    "total_i_data = aggregated_i_data.sum(axis=1)\n",
    "total_e_data = aggregated_e_data.sum(axis=1)\n",
    "\n",
    "# Create a figure and axis for plotting\n",
    "fig, ax = plt.subplots(figsize=(10, 6))\n",
    "\n",
    "# Plot total immigration\n",
    "total_i_data.plot(kind='bar', color='royalblue', position=0, width=0.4, label='Immigrants', ax=ax)\n",
    "\n",
    "# Plot total emigration\n",
    "total_e_data.plot(kind='bar', color='darkturquoise', position=1, width=0.4, label='Emigrants', ax=ax)\n",
    "\n",
    "ax.set_xlabel(\"Age Group\")\n",
    "ax.set_ylabel(\"Number of People\")\n",
    "ax.set_title(\"Total Immigration and Emigration by Age Group (2015-2023)\", fontsize=12)\n",
    "ax.grid(axis='y', linestyle='-', color='lightgrey')\n",
    "\n",
    "ax.legend(loc='upper left', bbox_to_anchor=(1, 1))\n",
    "\n",
    "plt.xticks(rotation=0)\n",
    "plt.tight_layout()\n",
    "\n",
    "plt.show()"
   ]
  },
  {
   "cell_type": "markdown",
   "metadata": {},
   "source": [
    "### 3.6 Code on Top 5 Countries for Age Groups"
   ]
  },
  {
   "cell_type": "code",
   "execution_count": null,
   "metadata": {},
   "outputs": [],
   "source": [
    "import pandas as pd\n",
    "import numpy as np\n",
    "import plotly.graph_objects as go\n",
    "import plotly.express as px\n",
    "\n",
    "immigration_data = pd.read_csv('Immigration_2015-2023.csv', sep=';')\n",
    "emigration_data = pd.read_csv('Emigration_2015-2023.csv', sep=';')\n",
    "\n",
    "# Remove 'year' or 'years' from age column\n",
    "immigration_data['Age'] = immigration_data['Age'].str.replace(r'\\D', '', regex=True).astype(int)\n",
    "emigration_data['Age'] = emigration_data['Age'].str.replace(r'\\D', '', regex=True).astype(int)\n",
    "\n",
    "# Intervals for age groups\n",
    "interval_size = 10\n",
    "max_age = 80\n",
    "age_bins = range(0, max_age + 1, interval_size)\n",
    "age_labels = [f\"{i}-{i+interval_size-1}\" for i in range(0, max_age, interval_size)]\n",
    "\n",
    "# Function to get top 5 countries for each age group\n",
    "def get_top_countries(grouped_data):\n",
    "    \"\"\"\n",
    "    Get top 5 countries for each age group based on immigration or emigration counts.\n",
    "\n",
    "    Parameters:\n",
    "    grouped_data (DataFrame): Grouped data by age and country.\n",
    "\n",
    "    Returns:\n",
    "    dict: Dictionary containing top 5 countries and their counts for each age group.\n",
    "    \"\"\"\n",
    "    top_countries_data = {}\n",
    "    country_column = grouped_data.index.names[-1]\n",
    "    for age_group in age_labels:\n",
    "        top_countries = grouped_data.loc[age_group].nlargest(5, ['2015', '2016', '2017', '2018', '2019', '2020', '2021', '2022', '2023'])\n",
    "        sorted_top_countries = top_countries.sort_values(by='Total', ascending=False)\n",
    "        top_countries_data[age_group] = {\n",
    "            'countries': sorted_top_countries.index.get_level_values(country_column).tolist(),\n",
    "            'values': sorted_top_countries['Total'].tolist()\n",
    "        }\n",
    "    return top_countries_data\n",
    "\n",
    "# Group data by age and OriginCountry/Destination and sum the counts for each year\n",
    "i_grouped_by_age_and_country = immigration_data.groupby([pd.cut(immigration_data['Age'], bins=age_bins, labels=age_labels, right=False), 'OriginCountry'], observed=False).sum()\n",
    "e_grouped_by_age_and_country = emigration_data.groupby([pd.cut(emigration_data['Age'], bins=age_bins, labels=age_labels, right=False), 'Destination'], observed=False).sum()\n",
    "\n",
    "# Add a 'Total' column for sorting purposes\n",
    "i_grouped_by_age_and_country['Total'] = i_grouped_by_age_and_country.select_dtypes(include=[np.number]).sum(axis=1)\n",
    "e_grouped_by_age_and_country['Total'] = e_grouped_by_age_and_country.select_dtypes(include=[np.number]).sum(axis=1)\n",
    "\n",
    "# Get top 5 countries for immigration and emigration\n",
    "i_top_countries_data = get_top_countries(i_grouped_by_age_and_country)\n",
    "e_top_countries_data = get_top_countries(e_grouped_by_age_and_country)\n",
    "\n",
    "bar_width = 0.1\n",
    "space_between_groups = 0.3\n",
    "\n",
    "# Calculate the x positions for each bar within its age group\n",
    "x_positions = {}\n",
    "for i, age_group in enumerate(age_labels):\n",
    "    base_position = i * (5 * bar_width + space_between_groups)\n",
    "    x_positions[age_group] = [base_position + j * bar_width for j in range(5)]\n",
    "\n",
    "# Create traces for immigration and emigration\n",
    "immigration_traces = []\n",
    "emigration_traces = []\n",
    "\n",
    "for age_group in age_labels:\n",
    "    i_countries = i_top_countries_data[age_group]['countries']\n",
    "    e_countries = e_top_countries_data[age_group]['countries']\n",
    "    i_values = i_top_countries_data[age_group]['values']\n",
    "    e_values = e_top_countries_data[age_group]['values']\n",
    "    \n",
    "    immigration_traces.append(go.Bar(\n",
    "        x=x_positions[age_group],\n",
    "        y=i_values,\n",
    "        text=i_countries,\n",
    "        name=f'Age:<br>{age_group}',\n",
    "        visible=True,\n",
    "        hovertemplate = \"Count: %{y}\",\n",
    "        marker_color=px.colors.qualitative.Plotly[:len(i_values)],\n",
    "        width=bar_width \n",
    "    ))\n",
    "    \n",
    "    emigration_traces.append(go.Bar(\n",
    "        x=x_positions[age_group],\n",
    "        y=e_values,\n",
    "        visible=False,\n",
    "        text=e_countries,\n",
    "        hovertemplate = \"Count: %{y}\",\n",
    "        name=f'Age:<br>{age_group}',\n",
    "        marker_color=px.colors.qualitative.Plotly[len(i_values):len(i_values) + len(e_values)],\n",
    "        width=bar_width \n",
    "    ))\n",
    "\n",
    "# Create dropdown options\n",
    "dropdown_options = [\n",
    "    {\n",
    "        'label': 'Immigration',\n",
    "        'method': 'update',\n",
    "        'args': [\n",
    "            {'visible': [True] * len(immigration_traces) + [False] * len(emigration_traces)},\n",
    "            {'title': 'Top 5 Countries by Age Group - Immigration'}\n",
    "        ]\n",
    "    },\n",
    "    {\n",
    "        'label': 'Emigration',\n",
    "        'method': 'update',\n",
    "        'args': [\n",
    "            {'visible': [False] * len(immigration_traces) + [True] * len(emigration_traces)},\n",
    "            {'title': 'Top 5 Countries by Age Group - Emigration'}\n",
    "        ]\n",
    "    }\n",
    "]\n",
    "\n",
    "# Update the layout with the dropdown menu\n",
    "layout = go.Layout(\n",
    "    title='Top 5 Countries by Age Group - Immigration',\n",
    "    xaxis=dict(\n",
    "        title='Age Group',\n",
    "        tickvals=[i * (5 * bar_width + space_between_groups) + (2.5 * bar_width) for i in range(len(age_labels))],\n",
    "        ticktext=age_labels,\n",
    "        range=[-0.25, len(age_labels) * (5 * bar_width + space_between_groups)],\n",
    "    ),\n",
    "    yaxis=dict(title='Number of People'),\n",
    "    barmode='group',\n",
    "    showlegend=False,\n",
    "    updatemenus=[{\n",
    "        'buttons': dropdown_options,\n",
    "        'direction': 'down',\n",
    "        'pad': {'r': 10, 't': 10},\n",
    "        'showactive': True,\n",
    "        'x': 0.8,\n",
    "        'xanchor': 'left',\n",
    "        'y': 1.2,\n",
    "        'yanchor': 'top'\n",
    "    }],\n",
    "    \n",
    ")\n",
    "\n",
    "fig = go.Figure(data=immigration_traces + emigration_traces, layout=layout)\n",
    "\n",
    "fig.show()\n",
    "\n",
    "fig.write_html(\"TopCountriesMigrationByAgeGroup.html\", full_html=False, include_plotlyjs='cdn')"
   ]
  },
  {
   "cell_type": "markdown",
   "metadata": {},
   "source": [
    "## 4. Genre"
   ]
  },
  {
   "cell_type": "markdown",
   "metadata": {},
   "source": [
    "We chose to write the data story in Magazine Style. \n",
    "\n",
    "### 4.1 Visual Narrative\n",
    "\n",
    "#### 4.1.1 Visual Structuring\n",
    "* Consistent Visual Platform: The consistent visual platform is maintained throughout the visualization, with a clear layout, axis labels, title, and legend for interpretation to keep a similar structure throughout the post.\n",
    "\n",
    "#### 4.1.2 Highlighting\n",
    "* Feature Distinction: Features are distinguished using different colors for each country's data in the chart, and allowing readers to switch between charts.\n",
    "* Zooming: Features on the interactive level can be zoomed in, in order to get further insights from the visualizations. \n",
    "\n",
    "### 4.2 Narrative Structure \n",
    "\n",
    "#### 4.2.1 Ordering\n",
    "* Random Access: The order of the post is to be randomly explored and the viewer is therefore free to determine how they want to access the visualizations. \n",
    "  \n",
    "#### 4.2.2 Interactivity\n",
    "* Hover Highlighting / Details: Hover highlighting or details are implemented in charts to give better viewer experience. \n",
    "* Filtering / Selection / Search: Filtering and selection are provided through the buttons and mute policy, allowing users to switch between immigration and emigration data and compare different countries as well. \n",
    "* Very Limited Interactivity: The interactivity is limited to hovering and switching between two views of data (immigration and emigration) using buttons. \n",
    "* Tacit Tutorial: The buttons serve as a tacit tutorial, intuitively show users how to interact with the visualizations.\n",
    "* Stimulating Default Views: The default view of the visualization is stimulating as it presents immigration data, where users can switch to emigration data for comparison. Furthermore, that charts with hover highlighting also prompting them to delve deeper into the data.\n",
    "\n",
    "#### 4.2.3 Messaging\n",
    "* Captions / Headlines: Captions or headlines are included to provide an overview of the visualizations.\n",
    "* Summary / Synthesis: While the visualization provides a summary of immigration and emigration data, we explicitly synthesize the findings and compare them to the outside world. "
   ]
  },
  {
   "cell_type": "markdown",
   "metadata": {},
   "source": [
    "## 5. Visualizations"
   ]
  },
  {
   "cell_type": "markdown",
   "metadata": {},
   "source": [
    "### 5.1 Visualization on the Initial Overview on Migration"
   ]
  },
  {
   "cell_type": "markdown",
   "metadata": {},
   "source": [
    "This visualization consists of three line subplots. The first two aim to introduce and provide the reader with an overview of immigration and emigration trends over the period of 2015-2023. Meanwhile, the migration balance plot illustrates the overall migration situation in Denmark. In my opinion, line plots were a suitable choice for facilitating understanding by the average person because, in this case, the numbers of individuals over specific years clearly visualize the data history."
   ]
  },
  {
   "cell_type": "markdown",
   "metadata": {},
   "source": [
    "### 5.2 Visualization on the Share of Top 15 Countries in Migration"
   ]
  },
  {
   "cell_type": "markdown",
   "metadata": {},
   "source": [
    "Pie charts are a suitable choice for representing the proportion of several elements in a given aspect, in this case, the share of the top 15 countries in both immigration and emigration - that's why we opted for them in this paragraph. Additionally, the bar chart was also a natural choice when it comes to illustrating the relationship of each country to its migration balance relative to Denmark. The graphs selected by us clearly and easily present the data described in this paragraph."
   ]
  },
  {
   "cell_type": "markdown",
   "metadata": {},
   "source": [
    "### 5.3 Visualization on the Bokeh Plot on Migration"
   ]
  },
  {
   "cell_type": "markdown",
   "metadata": {},
   "source": [
    "To represent the trends of immigration and emigration in 15 countries, we chose the Bokeh plot because it adds the possibility of user interaction with the section. Additionally, the linear form of the plot is, in our opinion, the best choice for visualizing changes in a given value over time."
   ]
  },
  {
   "cell_type": "markdown",
   "metadata": {},
   "source": [
    "### 5.4 Visualization on Gender Trends in Migration"
   ]
  },
  {
   "cell_type": "markdown",
   "metadata": {},
   "source": [
    "We have chosen a grouped barchart to visualize compare immigration and emigration by gender. This gives a static and great comparison option for the viewer, who quickly can read the answers. Furthermore, there is included a hovertool to further help the viewer to read the answers. These answers could easily be compared to the outside world to look for migration trends by gender. Instead of have two plots, we decided to have one interactive, where the viewer could choose between which migration they wanted to explore."
   ]
  },
  {
   "cell_type": "markdown",
   "metadata": {},
   "source": [
    "### 5.5 Visualization on Age Trends in Migration"
   ]
  },
  {
   "cell_type": "markdown",
   "metadata": {},
   "source": [
    "For this visualization we wanted to discover which age groups were the primary ones and compare immigration and emigration directly in a grouped barchart. This gave a broad overview over the distribution of age and who contributed the most to the migration trends. It was interesting to see how much influence they had, which we then could delve further into in the next plot."
   ]
  },
  {
   "cell_type": "markdown",
   "metadata": {},
   "source": [
    "### 5.6 Visualization on Top 5 Countries for Age Groups"
   ]
  },
  {
   "cell_type": "markdown",
   "metadata": {},
   "source": [
    "To delve further into the age groups, we did another grouped barchart with countries, where we found it interesting to compare the top 5 origin countries of immigrants and top 5 destinations of emigrants from Denmark. This visualization was also interactive, where the viewer can choose between migration for personal interests. The impact of the different age groups unveiled, which countries that contributed the most of who was getting in and out of Denmark. Thereby, we could look for patterns and understand why they arrived or left Denmark."
   ]
  },
  {
   "cell_type": "markdown",
   "metadata": {},
   "source": [
    "### 5.7 Why These Visualizations?"
   ]
  },
  {
   "cell_type": "markdown",
   "metadata": {},
   "source": [
    "Selected charts regarding the initial review of immigration and emigration, as well as charts considering the main countries involved in migration in relation to Denmark, are presented in a straightforward and engaging manner, capturing readers' attention and illustrating the state of migration in the selected period.\n",
    "\n",
    "The visualizations chosen for comparing gender and age groups in immigration and emigration serve the story well due to their ability to effectively convey comparisons and trends in the data. They effectively compare the distribution by showing relative contribution over time, which is crucial for understanding migration patterns. By highlighting differences and allowing for straighforward comparisons provides detailed insights into migration trends."
   ]
  },
  {
   "cell_type": "markdown",
   "metadata": {},
   "source": [
    "## 6. Discussion\n",
    "\n"
   ]
  },
  {
   "cell_type": "markdown",
   "metadata": {},
   "source": [
    "Our visualization project aimed to explore migration patterns and trends to uncover the reality in Denmark. The chosen visualizations have proven to be effective in conveying the intended message and revealing insightful patterns in the data. However, to fully stimulate the viewer, the plots could have been more interactive showcasing each datapoint to be explored. We still find the level of complexity to be suitable for the story to be told and successfully enough to uncover the patterns and trends in the dataset. Even though, we have looked at the outside world to understand the overall trends in migration patterns, this could have further been explored to look for even more answers, which potentially could have uncovered additional insights. Furthermore, the findings of two datasets could lead to explore other datasets, explicitly looking at some of the most contributing countries' economic indicators to further understand the migration trends. \n",
    "\n",
    "Additionally, the visualization techniques effectively conveyed the story, but there may be opportunities to enhance the interactiveness and add more interactive elements to introduce even more playful features to the viewer. It could have been even more messaging or visual structuring tools to allow for more dynamically insights. This enables viewers to engage with the data more actively and customize their viewing experience according to their preferences. Furthermore, effectively guiding viewers through the narrative can ensure that key insights are communicated clearly. "
   ]
  },
  {
   "cell_type": "markdown",
   "metadata": {},
   "source": [
    "## 7. Contributions"
   ]
  },
  {
   "cell_type": "markdown",
   "metadata": {},
   "source": [
    "### 7.1 Explainer Notebook"
   ]
  },
  {
   "cell_type": "markdown",
   "metadata": {},
   "source": [
    "|   | s203777 | s230080 |\n",
    "|---|--------|---------|\n",
    "| Motivation | Reviewer | Main Contributor |\n",
    "| Basic Stats | Reviewer | Main Contributor |\n",
    "| Data Analysis | Reviewer | Main Contributor |\n",
    "| Genre | Main Contributor | Reviewer |\n",
    "| Visualizations | Main Contributor | Reviewer |\n",
    "| Discussion | Main Contributor | Reviewer |"
   ]
  },
  {
   "cell_type": "markdown",
   "metadata": {},
   "source": [
    "### 7.2 Blog Post"
   ]
  },
  {
   "cell_type": "markdown",
   "metadata": {},
   "source": [
    "|   | s203777 | s230080 |\n",
    "|---|--------|---------|\n",
    "| Introduction | Reviewer | Main Contributor |\n",
    "| Initial Overview on Migration | Reviewer | Main Contributor |\n",
    "| Share of Top 15 Countries in Migration | Reviewer | Main Contributor |\n",
    "| Track Immigration and Emigration for the Top 15 Countries | Reviewer | Main Contributor |\n",
    "| Gender Trends in Immigration and Emigration | Main Contributor | Reviewer |\n",
    "| Age Group Patterns in Immigration and Emigration | Main Contributor | Reviewer |\n",
    "| Age Groups: Top 5 Immigrant Origins & Emigrant Destinations | Main Contributor | Reviewer |\n",
    "| Conclusion | Main Contributor | Reviewer |"
   ]
  }
 ],
 "metadata": {
  "kernelspec": {
   "display_name": "Python 3",
   "language": "python",
   "name": "python3"
  },
  "language_info": {
   "codemirror_mode": {
    "name": "ipython",
    "version": 3
   },
   "file_extension": ".py",
   "mimetype": "text/x-python",
   "name": "python",
   "nbconvert_exporter": "python",
   "pygments_lexer": "ipython3",
   "version": "3.12.1"
  }
 },
 "nbformat": 4,
 "nbformat_minor": 2
}
