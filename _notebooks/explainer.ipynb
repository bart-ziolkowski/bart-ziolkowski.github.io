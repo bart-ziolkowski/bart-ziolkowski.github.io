{
 "cells": [
  {
   "cell_type": "markdown",
   "metadata": {},
   "source": [
    "# Final Project - Explainer"
   ]
  },
  {
   "cell_type": "markdown",
   "metadata": {},
   "source": [
    "## Authors - Group 48\n",
    "\n",
    "- Bartosz Ziolkowski, s230080\n",
    "- Kristoffer Plehn, s203777"
   ]
  },
  {
   "cell_type": "markdown",
   "metadata": {},
   "source": [
    "## 1. Motivation"
   ]
  },
  {
   "cell_type": "markdown",
   "metadata": {},
   "source": [
    "We used two datasets from [Statistikbanken.dk: ](https://www.statistikbanken.dk/)\n",
    "- Immigration by sex, age, country of origin and citizenship (1980-2023)      \n",
    "- Emigration by sex, age, country of destination and citizenship (1980-2023)\n",
    "\n",
    "We chose them because they contain data on the number and some metrics of migrants in Denmark, which is what we wanted to analyze. In addition, they come from an authorized source.\n",
    "\n",
    "Our goal in analyzing the datasets was to acquaint the end user with immigration to Denmark and emigration from Denmark between 2015 and 2023, considering individuals aged 0-80 and EU/EEA countries."
   ]
  },
  {
   "cell_type": "markdown",
   "metadata": {},
   "source": [
    "## 2. Basic Stats"
   ]
  },
  {
   "cell_type": "markdown",
   "metadata": {},
   "source": [
    "The dataset on immigration has a total size of 494 KB and 10.045 rows. In turn, the dataset on emigration has a total size of 491 KB and 10.045 rows as well. \n",
    "\n",
    "Both datasets have 13 columns: `OriginCountry`/`Destination`, `Citizenship`, `Sex`, `Age`, `2015`, `2016`, `2017`, `2018`, `2019`, `2020`, `2021`, `2022`, `2023`. \n",
    "\n",
    "The user interface of the website with the datasets allows the user to download the data by selecting desired columns and other grouping values e.g. specific countries, years, citizenships, age, and sex. We were interested in the period from 2015-2023, EU/EEA countries and migrants aged 0-80."
   ]
  },
  {
   "cell_type": "markdown",
   "metadata": {},
   "source": [
    "## 3. Data Analysis"
   ]
  },
  {
   "cell_type": "markdown",
   "metadata": {},
   "source": [
    "### 3.1 Code on the initial overview on migration"
   ]
  },
  {
   "cell_type": "code",
   "execution_count": null,
   "metadata": {},
   "outputs": [],
   "source": [
    "import pandas as pd\n",
    "import matplotlib.pyplot as plt\n",
    "\n",
    "immigration_data = pd.read_csv('Immigration_2015-2023.csv', sep=';')\n",
    "emigration_data = pd.read_csv('Emigration_2015-2023.csv', sep=';')\n",
    "\n",
    "# Select only the years' columns\n",
    "immigration_years = immigration_data.columns[4:]\n",
    "emigration_years = emigration_data.columns[4:]\n",
    "\n",
    "# Extract data for selected years\n",
    "immigration_data = immigration_data[immigration_years]\n",
    "emigration_data = emigration_data[emigration_years]\n",
    "\n",
    "# Calculate total immigration and emigration for each year\n",
    "immigration_total = immigration_data.sum()\n",
    "emigration_total = emigration_data.sum()\n",
    "\n",
    "# Calculate migration balance \n",
    "migration_balance = immigration_total - emigration_total\n",
    "\n",
    "fig, axs = plt.subplots(1, 3, figsize=(20, 6)) \n",
    "\n",
    "axs[0].plot(immigration_years, immigration_total, color='blue', marker='o', linestyle='-')\n",
    "axs[0].set_title('Immigration to Denmark', fontsize=18)\n",
    "axs[0].set_xlabel('Year')\n",
    "axs[0].set_ylabel('Number of People')\n",
    "\n",
    "axs[1].plot(emigration_years, emigration_total, color='red', marker='o', linestyle='-')\n",
    "axs[1].set_title('Emigration from Denmark', fontsize=18)\n",
    "axs[1].set_xlabel('Year')\n",
    "\n",
    "axs[2].plot(immigration_years, migration_balance, color='green', marker='o', linestyle='-')\n",
    "axs[2].set_title('Migration Balance (Immigration - Emigration)', fontsize=18)\n",
    "axs[2].set_xlabel('Year')\n",
    "\n",
    "# Adjust y-axis ticks for emigration chart\n",
    "emigration_start = 25000\n",
    "emigration_tick_interval = 1000\n",
    "emigration_ticks = [emigration_start + i * emigration_tick_interval for i in range(8)]\n",
    "axs[1].set_yticks(emigration_ticks)\n",
    "\n",
    "# Adjust y-axis ticks for migration balance chart\n",
    "balance_start = 10000\n",
    "balance_tick_interval = 2000\n",
    "balance_ticks = [balance_start + i * balance_tick_interval for i in range(8)]\n",
    "axs[2].set_yticks(balance_ticks)\n",
    "\n",
    "plt.tight_layout()\n",
    "plt.show()"
   ]
  },
  {
   "cell_type": "markdown",
   "metadata": {},
   "source": [
    "### 3.2 Code on the top 15 countries on migration"
   ]
  },
  {
   "cell_type": "code",
   "execution_count": null,
   "metadata": {},
   "outputs": [],
   "source": [
    "import pandas as pd\n",
    "import matplotlib.pyplot as plt\n",
    "\n",
    "immigration_data = pd.read_csv('Immigration_2015-2023.csv', sep=';')\n",
    "emigration_data = pd.read_csv('Emigration_2015-2023.csv', sep=';')\n",
    "\n",
    "# Select only numeric columns for both immigration and emigration data\n",
    "numeric_columns_immigration = immigration_data.select_dtypes(include='number')\n",
    "numeric_columns_emigration = emigration_data.select_dtypes(include='number')\n",
    "\n",
    "# Calculate total immigration and emigration for each country\n",
    "total_immigration_by_country = numeric_columns_immigration.groupby(immigration_data['OriginCountry']).sum().sum(axis=1)\n",
    "total_emigration_by_country = numeric_columns_emigration.groupby(emigration_data['Destination']).sum().sum(axis=1)\n",
    "\n",
    "# Select the top 15 countries with the highest immigration and emigration numbers\n",
    "top_15_countries_immigration = total_immigration_by_country.nlargest(15)\n",
    "top_15_countries_emigration = total_emigration_by_country.nlargest(15)\n",
    "\n",
    "# Define colors for charts\n",
    "colors = [\n",
    "    '#1f77b4', '#ff7f0e', '#2ca02c', '#d62728', '#9467bd',\n",
    "    '#8c564b', '#e377c2', '#7f7f7f', '#bcbd22', '#17becf',\n",
    "    '#1a55FF', '#2aFF3A', '#FF5733', '#33FFF6', '#8E44AD'\n",
    "]\n",
    "\n",
    "# Calculate migration ratio\n",
    "migration_ratio = top_15_countries_immigration - top_15_countries_emigration\n",
    "\n",
    "# Sort migration ratio data in descending order\n",
    "migration_ratio_sorted = migration_ratio.sort_values(ascending=False)\n",
    "\n",
    "fig, (ax1, ax2, ax3) = plt.subplots(1, 3, figsize=(20, 8))\n",
    "\n",
    "ax1.pie(top_15_countries_immigration, autopct='%1.1f%%', colors=colors, textprops={'color': 'white', 'weight': 'bold'})\n",
    "ax1.set_title('Top 15 Countries by Total Immigration to Denmark', loc='center', fontsize=18)\n",
    "\n",
    "ax2.pie(top_15_countries_emigration, autopct='%1.1f%%', colors=colors, textprops={'color': 'white', 'weight': 'bold'})\n",
    "ax2.set_title('Top 15 Countries by Total Emigration from Denmark', loc='center', fontsize=18)\n",
    "\n",
    "ax1.legend(top_15_countries_immigration.index, loc='upper left', bbox_to_anchor=(-0.1, 1), ncol=1)\n",
    "ax2.legend(top_15_countries_emigration.index, loc='upper left', bbox_to_anchor=(-0.1, 1), ncol=1)\n",
    "\n",
    "ax3.bar(migration_ratio_sorted.index, migration_ratio_sorted, color=colors)\n",
    "ax3.set_title('Migration Ratio (Immigration - Emigration)', fontsize=18)\n",
    "ax3.set_xlabel('Country', fontsize=14)\n",
    "ax3.set_ylabel('Number of People', fontsize=14)\n",
    "ax3.tick_params(axis='x', rotation=45)\n",
    "ax3.grid(axis='y', linestyle='--', alpha=0.7)\n",
    "\n",
    "plt.tight_layout()\n",
    "plt.show()"
   ]
  },
  {
   "cell_type": "markdown",
   "metadata": {},
   "source": [
    "### 3.3 Code on the Bokeh plot on migration"
   ]
  },
  {
   "cell_type": "code",
   "execution_count": null,
   "metadata": {},
   "outputs": [],
   "source": [
    "import pandas as pd\n",
    "from bokeh.plotting import figure, show, output_file\n",
    "from bokeh.models import ColumnDataSource, CustomJS, RadioButtonGroup, FixedTicker, Legend, LegendItem\n",
    "from bokeh.layouts import column\n",
    "from bokeh.palettes import Spectral11\n",
    "\n",
    "# Additional colors for better visualization\n",
    "Spectral15 = tuple(Spectral11) + ('#6a51a3', '#807dba', '#9e9ac8', '#000000')\n",
    "\n",
    "emigration_data = pd.read_csv(\"Emigration_2015-2023.csv\", delimiter=';', thousands=',')\n",
    "immigration_data = pd.read_csv(\"Immigration_2015-2023.csv\", delimiter=';', thousands=',')\n",
    "\n",
    "# Reshape data for easy plotting\n",
    "emigration_data = emigration_data.melt(id_vars=['Destination', 'Citizenship', 'Sex', 'Age'], \n",
    "                                         var_name='Year', value_name='Emigrants')\n",
    "immigration_data = immigration_data.melt(id_vars=['OriginCountry', 'Citizenship', 'Sex', 'Age'], \n",
    "                                         var_name='Year', value_name='Immigrants')\n",
    "\n",
    "# Convert 'Year' column to integer type\n",
    "emigration_data['Year'] = emigration_data['Year'].astype(int)\n",
    "immigration_data['Year'] = immigration_data['Year'].astype(int)\n",
    "\n",
    "total_immigration_by_country = immigration_data.groupby(['OriginCountry']).sum()\n",
    "total_emigration_by_country = emigration_data.groupby(['Destination']).sum()\n",
    "\n",
    "top_15_countries_immigration = total_immigration_by_country['Immigrants'].nlargest(15).index\n",
    "top_15_countries_emigration = total_emigration_by_country['Emigrants'].nlargest(15).index\n",
    "\n",
    "# Filter data for top 15 countries\n",
    "immigration_data = immigration_data[immigration_data['OriginCountry'].isin(top_15_countries_immigration)]\n",
    "emigration_data = emigration_data[emigration_data['Destination'].isin(top_15_countries_emigration)]\n",
    "\n",
    "# Pivot data for easy plotting\n",
    "immigration_data = immigration_data.pivot_table(index='Year', columns='OriginCountry', values='Immigrants', aggfunc='sum').fillna(0)\n",
    "emigration_data = emigration_data.pivot_table(index='Year', columns='Destination', values='Emigrants', aggfunc='sum').fillna(0)\n",
    "\n",
    "# Create ColumnDataSource for both immigration and emigration data\n",
    "imm_src = ColumnDataSource(immigration_data)\n",
    "emg_src = ColumnDataSource(emigration_data)\n",
    "\n",
    "# Create figures for plotting\n",
    "imm_chart = figure(width=1200, x_axis_label=\"Year\", y_axis_label=\"Number of Immigrants\",\n",
    "                   title=\"Immigration to Denmark by Country (2015-2023)\", x_range=(2015, 2023))\n",
    "emg_chart = figure(width=1200, x_axis_label=\"Year\", y_axis_label=\"Number of Emigrants\",\n",
    "                   title=\"Emigration from Denmark by Country (2015-2023)\", x_range=(2015, 2023), visible=False)\n",
    "\n",
    "imm_legend = Legend(items=[])\n",
    "emg_legend = Legend(items=[])\n",
    "\n",
    "# Plot lines for each country in immigration data\n",
    "for i, country in enumerate(top_15_countries_immigration):\n",
    "    line = imm_chart.line(x='Year', y=country, source=imm_src, line_width=2,\n",
    "                          color=Spectral15[i])\n",
    "    imm_legend.items.append(LegendItem(label=str(country), renderers=[line]))\n",
    "\n",
    "# Plot lines for each country in emigration data\n",
    "for i, country in enumerate(top_15_countries_emigration):\n",
    "    line = emg_chart.line(x='Year', y=country, source=emg_src, line_width=2,\n",
    "                          color=Spectral15[i])\n",
    "    emg_legend.items.append(LegendItem(label=str(country), renderers=[line]))\n",
    "\n",
    "\n",
    "imm_legend.click_policy = \"hide\"  \n",
    "imm_legend.location = \"top_left\"\n",
    "emg_legend.click_policy = \"hide\"\n",
    "emg_legend.location = \"top_right\"\n",
    "\n",
    "\n",
    "imm_chart.add_layout(imm_legend, 'right')\n",
    "emg_chart.add_layout(emg_legend, 'right')\n",
    "\n",
    "# Set fixed tickers for x-axis\n",
    "years = list(range(2015, 2024)) \n",
    "imm_chart.xaxis.ticker = FixedTicker(ticks=years)\n",
    "emg_chart.xaxis.ticker = FixedTicker(ticks=years)\n",
    "\n",
    "# Define callback function for radio button group\n",
    "callback = CustomJS(args=dict(imm_chart=imm_chart, emg_chart=emg_chart), code=\"\"\"\n",
    "    if (cb_obj.active == 0) {\n",
    "        emg_chart.visible = false;\n",
    "        imm_chart.visible = true;\n",
    "    } else {\n",
    "        imm_chart.visible = false;\n",
    "        emg_chart.visible = true;\n",
    "    }\n",
    "\"\"\")\n",
    "\n",
    "# Create radio button group for selecting immigration or emigration chart\n",
    "radio_button_group = RadioButtonGroup(labels=[\"Immigration\", \"Emigration\"], active=0)\n",
    "radio_button_group.js_on_change('active', callback)\n",
    "\n",
    "# Arrange plots and radio button group in a column layout\n",
    "layout = column(radio_button_group, imm_chart, emg_chart)\n",
    "\n",
    "output_file(\"ImmigrationEmigrationByCountry.html\")\n",
    "show(layout)"
   ]
  },
  {
   "cell_type": "markdown",
   "metadata": {},
   "source": [
    "## 4. Genre"
   ]
  },
  {
   "cell_type": "markdown",
   "metadata": {},
   "source": [
    "We chose to write the data story in Magazine Style. \n",
    "\n",
    "### Visual Narrative: \n",
    "\n",
    "#### Visual structuring\n",
    "* Consistent Visual Platform: The consistent visual platform is maintained throughout the visualization, with a clear layout, axis labels, title, and legend for interpretation to keep a similar structure throughout the post.\n",
    "\n",
    "#### Highlighting\n",
    "* Feature Distinction: Features are distinguished using different colors for each country's data in the chart, and allowing readers to switch between charts.\n",
    "* Zooming: Features on the interactive level can be zoomed in, in order to get further insights from the visualizations. \n",
    "\n",
    "### Narrative Structure: \n",
    "\n",
    "#### Ordering\n",
    "* Random Access: The order of the post is to be randomly explored and the viewer is therefore free to determine how they want to access the visualizations. \n",
    "  \n",
    "#### Interactivity\n",
    "* Hover Highlighting / Details: Hover highlighting or details are implemented in charts to give better viewer experience. \n",
    "* Filtering / Selection / Search: Filtering and selection are provided through the buttons and mute policy, allowing users to switch between immigration and emigration data and compare different countries as well. \n",
    "* Very Limited Interactivity: The interactivity is limited to hovering and switching between two views of data (immigration and emigration) using buttons. \n",
    "* Tacit Tutorial: The buttons serve as a tacit tutorial, intuitively show users how to interact with the visualizations.\n",
    "* Stimulating Default Views: The default view of the visualization is stimulating as it presents immigration data, where users can switch to emigration data for comparison. Furthermore, that charts with hover highlighting also prompting them to delve deeper into the data.\n",
    "\n",
    "#### Messaging\n",
    "* Captions / Headlines: Captions or headlines are included to provide an overview of the visualizations.\n",
    "* Summary / Synthesis: While the visualization provides a summary of immigration and emigration data, we explicitly synthesize the findings and compare them to the outside world. "
   ]
  },
  {
   "cell_type": "markdown",
   "metadata": {},
   "source": [
    "## 5. Visualizations"
   ]
  },
  {
   "cell_type": "markdown",
   "metadata": {},
   "source": [
    "### 5.1 Visualization on the initial overview on migration"
   ]
  },
  {
   "cell_type": "markdown",
   "metadata": {},
   "source": [
    "This visualization consists of three line subplots. The first two aim to introduce and provide the reader with an overview of immigration and emigration trends over the period of 2015-2023. Meanwhile, the migration balance plot illustrates the overall migration situation in Denmark. In my opinion, line plots were a suitable choice for facilitating understanding by the average person because, in this case, the numbers of individuals over specific years clearly visualize the data history."
   ]
  },
  {
   "cell_type": "markdown",
   "metadata": {},
   "source": [
    "### 5.2 Visualization on the top 15 countries on migration"
   ]
  },
  {
   "cell_type": "markdown",
   "metadata": {},
   "source": [
    "XYZ"
   ]
  },
  {
   "cell_type": "markdown",
   "metadata": {},
   "source": [
    "### 5.3 Visualization on the Bokeh plot on migration"
   ]
  },
  {
   "cell_type": "markdown",
   "metadata": {},
   "source": [
    "XYZ"
   ]
  },
  {
   "cell_type": "markdown",
   "metadata": {},
   "source": [
    "## 6. Discussion\n",
    "\n"
   ]
  },
  {
   "cell_type": "markdown",
   "metadata": {},
   "source": [
    "Our visualization project aimed to explore migration patterns and trends to uncover the reality in Denmark. The chosen visualizations have proven to be effective in conveying the intended message and revealing insightful patterns in the data. However, to fully stimulate the viewer, the plots could have been more interactive showcasing each datapoint to be explored. We still find the level of complexity to be suitable for the story to be told and successfully enough to uncover the patterns and trends in the dataset. Even though, we have looked at the outside world to understand the overall trends in migration patterns, this could have further been explored to look for even more answers, which potentially could have uncovered additional insights. Furthermore, the findings of two datasets could lead to explore other datasets, explicitly looking at some of the most contributing countries' economic indicators to further understand the migration trends. \n",
    "\n",
    "Additionally, the visualization techniques effectively conveyed the story, but there may be opportunities to enhance the interactiveness and add more interactive elements to introduce even more playful features to the viewer. It could have been even more messaging or visual structuring tools to allow for more dynamically insights. This enables viewers to engage with the data more actively and customize their viewing experience according to their preferences. Furthermore, effectively guiding viewers through the narrative can ensure that key insights are communicated clearly. "
   ]
  },
  {
   "cell_type": "markdown",
   "metadata": {},
   "source": [
    "## 7. Contributions"
   ]
  },
  {
   "cell_type": "markdown",
   "metadata": {},
   "source": [
    "### 7.1 Explainer Notebook"
   ]
  },
  {
   "cell_type": "markdown",
   "metadata": {},
   "source": [
    "|   | s203777 | s230080 |\n",
    "|---|--------|---------|\n",
    "| Motivation | Reviewer | Main Contributor |\n",
    "| Basic Stats | Reviewer | Main Contributor |\n",
    "| Data Analysis | Reviewer | Main Contributor |\n",
    "| Genre | Main Contributor | Reviewer |\n",
    "| Visualizations | Main Contributor | Reviewer |\n",
    "| Discussion | Main Contributor | Reviewer |"
   ]
  },
  {
   "cell_type": "markdown",
   "metadata": {},
   "source": [
    "### 7.2 Blog Post"
   ]
  },
  {
   "cell_type": "markdown",
   "metadata": {},
   "source": [
    "|   | s203777 | s230080 |\n",
    "|---|--------|---------|\n",
    "| Motivation | Reviewer | Main Contributor |\n",
    "| Basic Stats | Reviewer | Main Contributor |\n",
    "| Data Analysis | Reviewer | Main Contributor |\n",
    "| Genre | Main Contributor | Reviewer |\n",
    "| Visualizations | Main Contributor | Reviewer |\n",
    "| Discussion | Main Contributor | Reviewer |"
   ]
  }
 ],
 "metadata": {
  "kernelspec": {
   "display_name": "Python 3",
   "language": "python",
   "name": "python3"
  },
  "language_info": {
   "codemirror_mode": {
    "name": "ipython",
    "version": 3
   },
   "file_extension": ".py",
   "mimetype": "text/x-python",
   "name": "python",
   "nbconvert_exporter": "python",
   "pygments_lexer": "ipython3",
   "version": "3.12.1"
  }
 },
 "nbformat": 4,
 "nbformat_minor": 2
}
